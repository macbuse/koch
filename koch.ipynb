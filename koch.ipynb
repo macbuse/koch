{
 "cells": [
  {
   "cell_type": "markdown",
   "metadata": {},
   "source": [
    "# Koch Snowflake\n",
    "\n",
    "I learnt about the Koch curve when I was about 17 or 18.\n",
    "You can see below how I coded it up without recursion or L-systems\n",
    "\n",
    "But let's start with some code I found \n",
    "[here](https://codereview.stackexchange.com/questions/4832/koch-curve-algorithm-in-python-without-using-turtle-logo-logic).\n",
    "The guy gives himself a lot of work because \n",
    "\n",
    "- doesn't know what complex numbers are.\n",
    "- sets named variables instead of using a loop\n",
    "- doesn't use zip() to show he is looping across consecutive elements\n",
    "- uses loops nested 3 deep **OMG**"
   ]
  },
  {
   "cell_type": "code",
   "execution_count": 26,
   "metadata": {},
   "outputs": [],
   "source": [
    "def kochenize(a,b):\n",
    "    HFACTOR = (3**0.5)/6\n",
    "    dx = b[0] - a[0]\n",
    "    dy = b[1] - a[1]\n",
    "    mid = ( (a[0]+b[0])/2, (a[1]+b[1])/2 )\n",
    "    p1 = ( a[0]+dx/3, a[1]+dy/3 )\n",
    "    p3 = ( b[0]-dx/3, b[1]-dy/3 )\n",
    "    p2 = ( mid[0]-dy*HFACTOR, mid[1]+dx*HFACTOR )\n",
    "    return p1, p2, p3\n",
    "\n",
    "def koch(steps, width):\n",
    "    arraysize = 4**steps + 1\n",
    "    points = [(0.0,0.0)]*arraysize\n",
    "    points[0] = (-width/2., 0.0)\n",
    "    points[-1] = (width/2., 0.0)\n",
    "    stepwidth = arraysize - 1\n",
    "    for n in range(steps):\n",
    "        segment = (arraysize-1)//stepwidth\n",
    "        print(segment,arraysize)\n",
    "        for s in range(segment):\n",
    "            st = s*stepwidth\n",
    "            a = (points[st][0], points[st][1])\n",
    "            b = (points[st+stepwidth][0], points[st+stepwidth][1])\n",
    "            index1 = st + (stepwidth)//4\n",
    "            index2 = st + (stepwidth)//2\n",
    "            index3 = st + ((stepwidth)//4)*3\n",
    "            result = kochenize(a,b)\n",
    "            points[index1], points[index2], points[index3] = result            \n",
    "        stepwidth //= 4\n",
    "    return points\n"
   ]
  },
  {
   "cell_type": "markdown",
   "metadata": {},
   "source": [
    "## So....\n",
    "\n",
    "let's get started "
   ]
  },
  {
   "cell_type": "code",
   "execution_count": 1,
   "metadata": {},
   "outputs": [],
   "source": [
    "import numpy as np\n",
    "%matplotlib inline\n",
    "import matplotlib.pyplot as plt\n",
    "import imageio \n",
    "\n",
    "# I might run this in notebook and not lab so\n",
    "%matplotlib inline\n",
    "# skimage is sensitive about letting u import so....\n",
    "from skimage.transform import resize, rotate\n",
    "\n",
    "def mk_gif(frames, fn='weather.gif', duration=.3):\n",
    "    with imageio.get_writer(fn, mode='I',duration=duration) as writer:\n",
    "        for frame in frames:\n",
    "            if frame is None: continue\n",
    "            writer.append_data(frame)"
   ]
  },
  {
   "cell_type": "markdown",
   "metadata": {},
   "source": [
    "I think this is cleaner \n",
    "\n",
    "- there is much less use of indices\n",
    "- the striding in the inside *for* loop is explicit\n",
    "\n",
    "but we will do better below :)"
   ]
  },
  {
   "cell_type": "code",
   "execution_count": 2,
   "metadata": {},
   "outputs": [],
   "source": [
    "def kochenize_segment(a,b):\n",
    "    HFACTOR = (3**0.5)/6\n",
    "    dz = b - a\n",
    "    mid = .5*(a + b)\n",
    "    return a + dz/3 , mid + 1J*dz*HFACTOR, b - dz/3\n",
    "\n",
    "def koch(steps, width):\n",
    "    arraysize = 4**steps + 1\n",
    "    stepwidth = arraysize\n",
    "    \n",
    "    pts = 1J*np.ones(arraysize)\n",
    "    pts[0] = -width / 2\n",
    "    pts[-1] = width / 2\n",
    "    \n",
    "    for n in range(steps):\n",
    "        end_pts = range(0, arraysize, stepwidth) \n",
    "        for a,b in zip(end_pts, end_pts[1:]):\n",
    "            new_pts = kochenize_segment( pts[a], pts[b])\n",
    "            for k in range(3):\n",
    "                pts[a + (k + 1)*(stepwidth//4)] = new_pts[k]         \n",
    "        stepwidth //= 4\n",
    "        \n",
    "    return points\n"
   ]
  },
  {
   "cell_type": "markdown",
   "metadata": {},
   "source": [
    "# Better again?\n",
    "\n",
    "this is how I did ir when I was 18 in BASIC basically\n"
   ]
  },
  {
   "cell_type": "code",
   "execution_count": 16,
   "metadata": {},
   "outputs": [
    {
     "data": {
      "image/png": "[encoded data removed]",
      "text/plain": [
       "<Figure size 360x360 with 1 Axes>"
      ]
     },
     "metadata": {
      "needs_background": "light"
     },
     "output_type": "display_data"
    }
   ],
   "source": [
    "def deep_congruence(n):\n",
    "    if n == 0 : return 0\n",
    "    b = n % 4\n",
    "    while b ==0 :\n",
    "        n, b = n//4, n % 4\n",
    "    return b\n",
    "\n",
    "def Koch(depth=4,\n",
    "         ff=1/6):\n",
    "    \n",
    "    W = np.exp(2*np.pi*1J*ff)\n",
    "    int2dir = {0: W, 1:  W , 2: W**(-2), 3: W}\n",
    "    \n",
    "    T = np.array([deep_congruence(x) for x in range(4**depth)])\n",
    "    \n",
    "    turns = [ int2dir[t] for t in T]\n",
    "    turns.append(T[3])\n",
    "    \n",
    "    #here we are doing turtle graphics\n",
    "    pts, direction  = [0], 1\n",
    "    for z in turns[1:]:\n",
    "        pts.append(pts[-1] + direction)\n",
    "        direction *= z\n",
    "        \n",
    "    return pts\n",
    "\n",
    "def snowflake(angle=1/6,depth=4):\n",
    "    pts = Koch(depth=depth, ff=angle)\n",
    "    \n",
    "    L = abs(pts[-1] - pts[0]) \n",
    "    R  = np.exp(-2*np.pi/3*1J)\n",
    "    pts = [ z/L  - (2+R)/3 for z in pts]\n",
    "    \n",
    "    U = []\n",
    "    for k in range(2):\n",
    "        U.extend([ R*v for v in pts])\n",
    "        R *= R\n",
    "    pts.extend(U)\n",
    "    return pts\n",
    "\n",
    "fig = plt.figure(figsize=(5,5))\n",
    "ax = fig.add_subplot(111)\n",
    "ax.axis('off')\n",
    "ax.set_aspect(1) \n",
    "\n",
    "for t in np.linspace(1/3,1/36,1):\n",
    "    pts = snowflake(angle=t,depth=3)\n",
    "    X = [ z.real for z in pts]\n",
    "    Y = [ z.imag for z in pts]\n",
    "    \n",
    "    ax.plot(X,Y)"
   ]
  },
  {
   "cell_type": "code",
   "execution_count": 331,
   "metadata": {},
   "outputs": [
    {
     "data": {
      "text/plain": [
       "((0.5000000000000004-0.2886751345948127j),\n",
       " (0.5000000000000002-0.288675134594813j))"
      ]
     },
     "execution_count": 331,
     "metadata": {},
     "output_type": "execute_result"
    }
   ],
   "source": [
    "sum(pts)/len(pts) , (2 + R)/3"
   ]
  },
  {
   "cell_type": "markdown",
   "metadata": {},
   "source": [
    "\n",
    "# Transition from one to another\n",
    "\n",
    "make a GIF \n",
    "\n",
    "This works but I ran it before importing numpy to solve a pb with github"
   ]
  },
  {
   "cell_type": "code",
   "execution_count": 1,
   "metadata": {},
   "outputs": [
    {
     "ename": "NameError",
     "evalue": "name 'np' is not defined",
     "output_type": "error",
     "traceback": [
      "\u001b[0;31m---------------------------------------------------------------------------\u001b[0m",
      "\u001b[0;31mNameError\u001b[0m                                 Traceback (most recent call last)",
      "\u001b[0;32m<ipython-input-1-9a49a39502d5>\u001b[0m in \u001b[0;36m<module>\u001b[0;34m()\u001b[0m\n\u001b[1;32m      1\u001b[0m \u001b[0mframes\u001b[0m \u001b[0;34m=\u001b[0m \u001b[0;34m[\u001b[0m\u001b[0;34m]\u001b[0m\u001b[0;34m\u001b[0m\u001b[0m\n\u001b[0;32m----> 2\u001b[0;31m \u001b[0;32mfor\u001b[0m \u001b[0mff\u001b[0m \u001b[0;32min\u001b[0m \u001b[0mnp\u001b[0m\u001b[0;34m.\u001b[0m\u001b[0mlinspace\u001b[0m\u001b[0;34m(\u001b[0m\u001b[0;36m1\u001b[0m\u001b[0;34m/\u001b[0m\u001b[0;36m3\u001b[0m\u001b[0;34m,\u001b[0m \u001b[0;36m1\u001b[0m\u001b[0;34m/\u001b[0m\u001b[0;36m6\u001b[0m\u001b[0;34m,\u001b[0m \u001b[0;36m50\u001b[0m\u001b[0;34m)\u001b[0m\u001b[0;34m:\u001b[0m\u001b[0;34m\u001b[0m\u001b[0m\n\u001b[0m\u001b[1;32m      3\u001b[0m \u001b[0;34m\u001b[0m\u001b[0m\n\u001b[1;32m      4\u001b[0m     \u001b[0mpts\u001b[0m \u001b[0;34m=\u001b[0m \u001b[0msnowflake\u001b[0m\u001b[0;34m(\u001b[0m\u001b[0mangle\u001b[0m\u001b[0;34m=\u001b[0m\u001b[0mff\u001b[0m\u001b[0;34m,\u001b[0m\u001b[0mdepth\u001b[0m\u001b[0;34m=\u001b[0m\u001b[0;36m4\u001b[0m\u001b[0;34m)\u001b[0m\u001b[0;34m\u001b[0m\u001b[0m\n\u001b[1;32m      5\u001b[0m     \u001b[0mX\u001b[0m \u001b[0;34m=\u001b[0m \u001b[0;34m[\u001b[0m \u001b[0mz\u001b[0m\u001b[0;34m.\u001b[0m\u001b[0mreal\u001b[0m \u001b[0;32mfor\u001b[0m \u001b[0mz\u001b[0m \u001b[0;32min\u001b[0m \u001b[0mpts\u001b[0m\u001b[0;34m]\u001b[0m\u001b[0;34m\u001b[0m\u001b[0m\n",
      "\u001b[0;31mNameError\u001b[0m: name 'np' is not defined"
     ]
    }
   ],
   "source": [
    "frames = []\n",
    "for ff in np.linspace(1/3, 1/6, 50):\n",
    "\n",
    "    pts = snowflake(angle=ff,depth=4)\n",
    "    X = [ z.real for z in pts]\n",
    "    Y = [ z.imag for z in pts]\n",
    "    fig = plt.figure(figsize=(5,5))\n",
    "    ax = fig.add_subplot(111)\n",
    "    ax.axis('off')\n",
    "    ax.set_aspect(1) \n",
    "    ax.margins(0)\n",
    "    ax.plot(X,Y)\n",
    "    \n",
    "    fig.canvas.draw()       # draw the canvas, cache the renderer\n",
    "    image = np.frombuffer(fig.canvas.tostring_rgb(), dtype='uint8')\n",
    "    frames.append( image.reshape(fig.canvas.get_width_height()[::-1] + (3,)) )\n",
    "    "
   ]
  },
  {
   "cell_type": "code",
   "execution_count": 19,
   "metadata": {},
   "outputs": [],
   "source": [
    "mk_gif(frames, 'gg.gif')"
   ]
  },
  {
   "cell_type": "code",
   "execution_count": 9,
   "metadata": {},
   "outputs": [
    {
     "data": {
      "text/plain": [
       "[<matplotlib.lines.Line2D at 0x7d51979024a8>]"
      ]
     },
     "execution_count": 9,
     "metadata": {},
     "output_type": "execute_result"
    },
    {
     "data": {
      "image/png": "[encoded data removed]",
      "text/plain": [
       "<Figure size 360x360 with 1 Axes>"
      ]
     },
     "metadata": {
      "needs_background": "light"
     },
     "output_type": "display_data"
    }
   ],
   "source": [
    "def Koch(depth=4,\n",
    "         ff=1/6):\n",
    "    \n",
    "    W = np.exp(2*np.pi*1J*ff/2)\n",
    "    int2dir = {0: 1, 1:  W**2, 2: W**(-4), 3: W**2}\n",
    "    \n",
    "    T = np.array([deep_congruence(x) for x in range(256)])\n",
    "    \n",
    "    turns = [ int2dir[t] for t in T]\n",
    "    turns.append(T[3])\n",
    "    \n",
    "    #here we are doing turtle graphics\n",
    "    pts, direction  = [0], 1\n",
    "    for z in turns[1:]:\n",
    "        pts.append(pts[-1] + direction)\n",
    "        direction *= z\n",
    "        \n",
    "    return pts\n",
    "\n",
    "pts = Koch(ff= 1/4.4)\n",
    "X = [ z.real for z in pts]\n",
    "Y = [ z.imag for z in pts]\n",
    "\n",
    "fig = plt.figure(figsize=(5,5))\n",
    "ax = fig.add_subplot(111)\n",
    "ax.axis('off')\n",
    "ax.set_aspect(1) \n",
    "\n",
    "ax.plot(X,Y)\n"
   ]
  },
  {
   "cell_type": "code",
   "execution_count": null,
   "metadata": {},
   "outputs": [],
   "source": []
  }
 ],
 "metadata": {
  "kernelspec": {
   "display_name": "Python 3",
   "language": "python",
   "name": "python3"
  },
  "language_info": {
   "codemirror_mode": {
    "name": "ipython",
    "version": 3
   },
   "file_extension": ".py",
   "mimetype": "text/x-python",
   "name": "python",
   "nbconvert_exporter": "python",
   "pygments_lexer": "ipython3",
   "version": "3.6.5"
  }
 },
 "nbformat": 4,
 "nbformat_minor": 2
}
